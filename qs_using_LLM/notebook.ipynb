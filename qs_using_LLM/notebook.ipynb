{
 "cells": [
  {
   "cell_type": "code",
   "execution_count": 4,
   "metadata": {},
   "outputs": [
    {
     "name": "stdout",
     "output_type": "stream",
     "text": [
      "Question 1:\n",
      "\n",
      "Text: Gemini is a state-of-the-art language model developed by OpenAI.\n",
      "\n",
      "Question: Who developed the Gemini language model?\n",
      "\n",
      "Options:\n",
      "a) Google\n",
      "b) OpenAI\n",
      "c) Microsoft\n",
      "d) Amazon\n",
      "\n",
      "Question 2:\n",
      "\n",
      "Text: It can generate high-quality text based on the given input prompt.\n",
      "\n",
      "Question: What can Gemini do?\n",
      "\n",
      "Options:\n",
      "a) Translate languages\n",
      "b) Generate images\n",
      "c) Generate high-quality text\n",
      "d) Write poems\n",
      "\n",
      "Question 3:\n",
      "\n",
      "Text: In this script, we are using Gemini to generate multiple-choice questions from a given text.\n",
      "\n",
      "Question: What are we using Gemini for in this script?\n",
      "\n",
      "Options:\n",
      "a) To write a novel\n",
      "b) To generate multiple-choice questions\n",
      "c) To translate a document\n",
      "d) To create a social media post\n"
     ]
    }
   ],
   "source": []
  },
  {
   "cell_type": "code",
   "execution_count": null,
   "metadata": {},
   "outputs": [],
   "source": []
  }
 ],
 "metadata": {
  "kernelspec": {
   "display_name": ".venv",
   "language": "python",
   "name": "python3"
  },
  "language_info": {
   "codemirror_mode": {
    "name": "ipython",
    "version": 3
   },
   "file_extension": ".py",
   "mimetype": "text/x-python",
   "name": "python",
   "nbconvert_exporter": "python",
   "pygments_lexer": "ipython3",
   "version": "3.12.1"
  }
 },
 "nbformat": 4,
 "nbformat_minor": 2
}
